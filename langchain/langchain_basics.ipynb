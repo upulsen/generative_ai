{
  "nbformat": 4,
  "nbformat_minor": 0,
  "metadata": {
    "colab": {
      "provenance": []
    },
    "kernelspec": {
      "name": "python3",
      "display_name": "Python 3"
    },
    "language_info": {
      "name": "python"
    }
  },
  "cells": [
    {
      "cell_type": "code",
      "source": [
        "! pip install langchain langchain-experimental openai python-dotenv ipython-sql tiktoken faiss-cpu"
      ],
      "metadata": {
        "id": "zkA2CKTNH3n_",
        "outputId": "d11e7251-edb6-4024-d334-19563ad4b403",
        "colab": {
          "base_uri": "https://localhost:8080/"
        }
      },
      "execution_count": 48,
      "outputs": [
        {
          "output_type": "stream",
          "name": "stdout",
          "text": [
            "Requirement already satisfied: langchain in /usr/local/lib/python3.10/dist-packages (0.0.344)\n",
            "Requirement already satisfied: langchain-experimental in /usr/local/lib/python3.10/dist-packages (0.0.43)\n",
            "Requirement already satisfied: openai in /usr/local/lib/python3.10/dist-packages (1.3.6)\n",
            "Requirement already satisfied: python-dotenv in /usr/local/lib/python3.10/dist-packages (1.0.0)\n",
            "Requirement already satisfied: ipython-sql in /usr/local/lib/python3.10/dist-packages (0.5.0)\n",
            "Requirement already satisfied: tiktoken in /usr/local/lib/python3.10/dist-packages (0.5.1)\n",
            "Requirement already satisfied: faiss-cpu in /usr/local/lib/python3.10/dist-packages (1.7.4)\n",
            "Requirement already satisfied: PyYAML>=5.3 in /usr/local/lib/python3.10/dist-packages (from langchain) (6.0.1)\n",
            "Requirement already satisfied: SQLAlchemy<3,>=1.4 in /usr/local/lib/python3.10/dist-packages (from langchain) (2.0.23)\n",
            "Requirement already satisfied: aiohttp<4.0.0,>=3.8.3 in /usr/local/lib/python3.10/dist-packages (from langchain) (3.8.6)\n",
            "Requirement already satisfied: anyio<4.0 in /usr/local/lib/python3.10/dist-packages (from langchain) (3.7.1)\n",
            "Requirement already satisfied: async-timeout<5.0.0,>=4.0.0 in /usr/local/lib/python3.10/dist-packages (from langchain) (4.0.3)\n",
            "Requirement already satisfied: dataclasses-json<0.7,>=0.5.7 in /usr/local/lib/python3.10/dist-packages (from langchain) (0.6.3)\n",
            "Requirement already satisfied: jsonpatch<2.0,>=1.33 in /usr/local/lib/python3.10/dist-packages (from langchain) (1.33)\n",
            "Requirement already satisfied: langchain-core<0.1,>=0.0.8 in /usr/local/lib/python3.10/dist-packages (from langchain) (0.0.8)\n",
            "Requirement already satisfied: langsmith<0.1.0,>=0.0.63 in /usr/local/lib/python3.10/dist-packages (from langchain) (0.0.67)\n",
            "Requirement already satisfied: numpy<2,>=1 in /usr/local/lib/python3.10/dist-packages (from langchain) (1.23.5)\n",
            "Requirement already satisfied: pydantic<3,>=1 in /usr/local/lib/python3.10/dist-packages (from langchain) (1.10.13)\n",
            "Requirement already satisfied: requests<3,>=2 in /usr/local/lib/python3.10/dist-packages (from langchain) (2.31.0)\n",
            "Requirement already satisfied: tenacity<9.0.0,>=8.1.0 in /usr/local/lib/python3.10/dist-packages (from langchain) (8.2.3)\n",
            "Requirement already satisfied: distro<2,>=1.7.0 in /usr/lib/python3/dist-packages (from openai) (1.7.0)\n",
            "Requirement already satisfied: httpx<1,>=0.23.0 in /usr/local/lib/python3.10/dist-packages (from openai) (0.25.2)\n",
            "Requirement already satisfied: sniffio in /usr/local/lib/python3.10/dist-packages (from openai) (1.3.0)\n",
            "Requirement already satisfied: tqdm>4 in /usr/local/lib/python3.10/dist-packages (from openai) (4.66.1)\n",
            "Requirement already satisfied: typing-extensions<5,>=4.5 in /usr/local/lib/python3.10/dist-packages (from openai) (4.5.0)\n",
            "Requirement already satisfied: prettytable in /usr/local/lib/python3.10/dist-packages (from ipython-sql) (3.9.0)\n",
            "Requirement already satisfied: ipython in /usr/local/lib/python3.10/dist-packages (from ipython-sql) (7.34.0)\n",
            "Requirement already satisfied: sqlparse in /usr/local/lib/python3.10/dist-packages (from ipython-sql) (0.4.4)\n",
            "Requirement already satisfied: six in /usr/local/lib/python3.10/dist-packages (from ipython-sql) (1.16.0)\n",
            "Requirement already satisfied: ipython-genutils in /usr/local/lib/python3.10/dist-packages (from ipython-sql) (0.2.0)\n",
            "Requirement already satisfied: regex>=2022.1.18 in /usr/local/lib/python3.10/dist-packages (from tiktoken) (2023.6.3)\n",
            "Requirement already satisfied: attrs>=17.3.0 in /usr/local/lib/python3.10/dist-packages (from aiohttp<4.0.0,>=3.8.3->langchain) (23.1.0)\n",
            "Requirement already satisfied: charset-normalizer<4.0,>=2.0 in /usr/local/lib/python3.10/dist-packages (from aiohttp<4.0.0,>=3.8.3->langchain) (3.3.2)\n",
            "Requirement already satisfied: multidict<7.0,>=4.5 in /usr/local/lib/python3.10/dist-packages (from aiohttp<4.0.0,>=3.8.3->langchain) (6.0.4)\n",
            "Requirement already satisfied: yarl<2.0,>=1.0 in /usr/local/lib/python3.10/dist-packages (from aiohttp<4.0.0,>=3.8.3->langchain) (1.9.2)\n",
            "Requirement already satisfied: frozenlist>=1.1.1 in /usr/local/lib/python3.10/dist-packages (from aiohttp<4.0.0,>=3.8.3->langchain) (1.4.0)\n",
            "Requirement already satisfied: aiosignal>=1.1.2 in /usr/local/lib/python3.10/dist-packages (from aiohttp<4.0.0,>=3.8.3->langchain) (1.3.1)\n",
            "Requirement already satisfied: idna>=2.8 in /usr/local/lib/python3.10/dist-packages (from anyio<4.0->langchain) (3.4)\n",
            "Requirement already satisfied: exceptiongroup in /usr/local/lib/python3.10/dist-packages (from anyio<4.0->langchain) (1.1.3)\n",
            "Requirement already satisfied: marshmallow<4.0.0,>=3.18.0 in /usr/local/lib/python3.10/dist-packages (from dataclasses-json<0.7,>=0.5.7->langchain) (3.20.1)\n",
            "Requirement already satisfied: typing-inspect<1,>=0.4.0 in /usr/local/lib/python3.10/dist-packages (from dataclasses-json<0.7,>=0.5.7->langchain) (0.9.0)\n",
            "Requirement already satisfied: certifi in /usr/local/lib/python3.10/dist-packages (from httpx<1,>=0.23.0->openai) (2023.7.22)\n",
            "Requirement already satisfied: httpcore==1.* in /usr/local/lib/python3.10/dist-packages (from httpx<1,>=0.23.0->openai) (1.0.2)\n",
            "Requirement already satisfied: h11<0.15,>=0.13 in /usr/local/lib/python3.10/dist-packages (from httpcore==1.*->httpx<1,>=0.23.0->openai) (0.14.0)\n",
            "Requirement already satisfied: jsonpointer>=1.9 in /usr/local/lib/python3.10/dist-packages (from jsonpatch<2.0,>=1.33->langchain) (2.4)\n",
            "Requirement already satisfied: urllib3<3,>=1.21.1 in /usr/local/lib/python3.10/dist-packages (from requests<3,>=2->langchain) (2.0.7)\n",
            "Requirement already satisfied: greenlet!=0.4.17 in /usr/local/lib/python3.10/dist-packages (from SQLAlchemy<3,>=1.4->langchain) (3.0.1)\n",
            "Requirement already satisfied: setuptools>=18.5 in /usr/local/lib/python3.10/dist-packages (from ipython->ipython-sql) (67.7.2)\n",
            "Requirement already satisfied: jedi>=0.16 in /usr/local/lib/python3.10/dist-packages (from ipython->ipython-sql) (0.19.1)\n",
            "Requirement already satisfied: decorator in /usr/local/lib/python3.10/dist-packages (from ipython->ipython-sql) (4.4.2)\n",
            "Requirement already satisfied: pickleshare in /usr/local/lib/python3.10/dist-packages (from ipython->ipython-sql) (0.7.5)\n",
            "Requirement already satisfied: traitlets>=4.2 in /usr/local/lib/python3.10/dist-packages (from ipython->ipython-sql) (5.7.1)\n",
            "Requirement already satisfied: prompt-toolkit!=3.0.0,!=3.0.1,<3.1.0,>=2.0.0 in /usr/local/lib/python3.10/dist-packages (from ipython->ipython-sql) (3.0.41)\n",
            "Requirement already satisfied: pygments in /usr/local/lib/python3.10/dist-packages (from ipython->ipython-sql) (2.16.1)\n",
            "Requirement already satisfied: backcall in /usr/local/lib/python3.10/dist-packages (from ipython->ipython-sql) (0.2.0)\n",
            "Requirement already satisfied: matplotlib-inline in /usr/local/lib/python3.10/dist-packages (from ipython->ipython-sql) (0.1.6)\n",
            "Requirement already satisfied: pexpect>4.3 in /usr/local/lib/python3.10/dist-packages (from ipython->ipython-sql) (4.8.0)\n",
            "Requirement already satisfied: wcwidth in /usr/local/lib/python3.10/dist-packages (from prettytable->ipython-sql) (0.2.10)\n",
            "Requirement already satisfied: parso<0.9.0,>=0.8.3 in /usr/local/lib/python3.10/dist-packages (from jedi>=0.16->ipython->ipython-sql) (0.8.3)\n",
            "Requirement already satisfied: packaging>=17.0 in /usr/local/lib/python3.10/dist-packages (from marshmallow<4.0.0,>=3.18.0->dataclasses-json<0.7,>=0.5.7->langchain) (23.2)\n",
            "Requirement already satisfied: ptyprocess>=0.5 in /usr/local/lib/python3.10/dist-packages (from pexpect>4.3->ipython->ipython-sql) (0.7.0)\n",
            "Requirement already satisfied: mypy-extensions>=0.3.0 in /usr/local/lib/python3.10/dist-packages (from typing-inspect<1,>=0.4.0->dataclasses-json<0.7,>=0.5.7->langchain) (1.0.0)\n"
          ]
        }
      ]
    },
    {
      "cell_type": "code",
      "execution_count": 9,
      "metadata": {
        "id": "50dvxjqCFmhF",
        "outputId": "5c857f7a-6db5-4290-c626-44df2affcd98",
        "colab": {
          "base_uri": "https://localhost:8080/"
        }
      },
      "outputs": [
        {
          "name": "stdout",
          "output_type": "stream",
          "text": [
            "Enter your OpenAI API key:··········\n"
          ]
        }
      ],
      "source": [
        "from getpass import getpass\n",
        "import os\n",
        "\n",
        "api_key = getpass('Enter your OpenAI API key:')\n",
        "os.environ['OPENAI_API_KEY'] = api_key"
      ]
    },
    {
      "cell_type": "code",
      "source": [
        "# Run basic query with OpenAI wrapper\n",
        "\n",
        "from langchain.llms import OpenAI\n",
        "llm = OpenAI(model_name=\"text-davinci-003\")\n",
        "llm(\"explain large language models in one sentence\")"
      ],
      "metadata": {
        "id": "C7RnyUOCJWmk",
        "outputId": "58624cf7-5eb0-47a5-e7b2-f7b29fe9b5ec",
        "colab": {
          "base_uri": "https://localhost:8080/",
          "height": 35
        }
      },
      "execution_count": 10,
      "outputs": [
        {
          "output_type": "execute_result",
          "data": {
            "text/plain": [
              "'\\n\\nLarge language models are models that use large amounts of text data to learn and generate text.'"
            ],
            "application/vnd.google.colaboratory.intrinsic+json": {
              "type": "string"
            }
          },
          "metadata": {},
          "execution_count": 10
        }
      ]
    },
    {
      "cell_type": "code",
      "source": [
        "# import schema for chat messages and ChatOpenAI in order to query chatmodels GPT-3.5-turbo or GPT-4\n",
        "\n",
        "from langchain.schema import (\n",
        "    AIMessage,\n",
        "    HumanMessage,\n",
        "    SystemMessage\n",
        ")\n",
        "from langchain.chat_models import ChatOpenAI"
      ],
      "metadata": {
        "id": "JtHgQ5XpJmgi"
      },
      "execution_count": 11,
      "outputs": []
    },
    {
      "cell_type": "code",
      "source": [
        "chat = ChatOpenAI(model_name=\"gpt-3.5-turbo\",temperature=0.3)\n",
        "messages = [\n",
        "    SystemMessage(content=\"You are an expert data scientist\"),\n",
        "    HumanMessage(content=\"Write a Python script that trains a neural network on simulated data \")\n",
        "]\n",
        "response=chat(messages)\n",
        "\n",
        "print(response.content,end='\\n')"
      ],
      "metadata": {
        "id": "yrfYfKfdJyyF",
        "outputId": "fb3b9c55-2995-419e-d688-1dc2746371b6",
        "colab": {
          "base_uri": "https://localhost:8080/"
        }
      },
      "execution_count": 12,
      "outputs": [
        {
          "output_type": "stream",
          "name": "stdout",
          "text": [
            "Certainly! Here's an example of a Python script that trains a neural network on simulated data using the Keras library:\n",
            "\n",
            "```python\n",
            "import numpy as np\n",
            "from keras.models import Sequential\n",
            "from keras.layers import Dense\n",
            "\n",
            "# Generate simulated data\n",
            "np.random.seed(0)\n",
            "X = np.random.rand(100, 2)\n",
            "y = np.random.randint(2, size=100)\n",
            "\n",
            "# Define the neural network model\n",
            "model = Sequential()\n",
            "model.add(Dense(4, input_dim=2, activation='relu'))\n",
            "model.add(Dense(1, activation='sigmoid'))\n",
            "\n",
            "# Compile the model\n",
            "model.compile(loss='binary_crossentropy', optimizer='adam', metrics=['accuracy'])\n",
            "\n",
            "# Train the model\n",
            "model.fit(X, y, epochs=10, batch_size=10)\n",
            "\n",
            "# Evaluate the model\n",
            "loss, accuracy = model.evaluate(X, y)\n",
            "print(f'Loss: {loss}, Accuracy: {accuracy}')\n",
            "```\n",
            "\n",
            "In this script, we first generate simulated data using `numpy`. We then define a neural network model using `Sequential` from Keras and add two dense layers. The first layer has 4 neurons and uses the ReLU activation function, while the second layer has 1 neuron and uses the sigmoid activation function.\n",
            "\n",
            "Next, we compile the model using the binary cross-entropy loss function and the Adam optimizer. We then train the model on the simulated data for 10 epochs with a batch size of 10.\n",
            "\n",
            "Finally, we evaluate the trained model on the same simulated data and print the loss and accuracy.\n"
          ]
        }
      ]
    },
    {
      "cell_type": "code",
      "source": [
        "# Import prompt and define PromptTemplate\n",
        "\n",
        "from langchain import PromptTemplate\n",
        "\n",
        "template = \"\"\"\n",
        "You are an expert data scientist with an expertise in building deep learning models.\n",
        "Explain the concept of {concept} in a couple of lines\n",
        "\"\"\"\n",
        "\n",
        "prompt = PromptTemplate(\n",
        "    input_variables=[\"concept\"],\n",
        "    template=template,\n",
        ")"
      ],
      "metadata": {
        "id": "2grf7I8AJ_hK"
      },
      "execution_count": 13,
      "outputs": []
    },
    {
      "cell_type": "code",
      "source": [
        "# Run LLM with PromptTemplate\n",
        "\n",
        "llm(prompt.format(concept=\"autoencoder\"))"
      ],
      "metadata": {
        "id": "vcz7Q9Y-KFvI",
        "outputId": "3000c255-3876-4518-8219-82a55d393c20",
        "colab": {
          "base_uri": "https://localhost:8080/",
          "height": 53
        }
      },
      "execution_count": 14,
      "outputs": [
        {
          "output_type": "execute_result",
          "data": {
            "text/plain": [
              "'\\nAutoencoders are machine learning algorithms that can learn a compressed representation of input data, typically for the purpose of dimensionality reduction or feature extraction. They are composed of an encoder, which compresses the input data into a lower dimensional representation, and a decoder, which reconstructs the original input from the lower dimensional representation.'"
            ],
            "application/vnd.google.colaboratory.intrinsic+json": {
              "type": "string"
            }
          },
          "metadata": {},
          "execution_count": 14
        }
      ]
    },
    {
      "cell_type": "code",
      "source": [
        "# Import LLMChain and define chain with language model and prompt as arguments.\n",
        "\n",
        "from langchain.chains import LLMChain\n",
        "chain = LLMChain(llm=llm, prompt=prompt)\n",
        "\n",
        "# Run the chain only specifying the input variable.\n",
        "print(chain.run(\"autoencoder\"))"
      ],
      "metadata": {
        "id": "dm78i-rUKXIB",
        "outputId": "5b69961c-01f8-41ff-88b1-3a1cdbc20461",
        "colab": {
          "base_uri": "https://localhost:8080/"
        }
      },
      "execution_count": 15,
      "outputs": [
        {
          "output_type": "stream",
          "name": "stdout",
          "text": [
            "\n",
            "Autoencoders are a type of neural network that are trained to encode and decode high dimensional data into a lower dimensional representation. They learn to reconstruct the input data from the latent representation, allowing for data compression and feature extraction.\n"
          ]
        }
      ]
    },
    {
      "cell_type": "code",
      "source": [
        "# Define a second prompt\n",
        "\n",
        "second_prompt = PromptTemplate(\n",
        "    input_variables=[\"ml_concept\"],\n",
        "    template=\"Turn the concept description of {ml_concept} and explain it to me like I'm five in 500 words\",\n",
        ")\n",
        "chain_two = LLMChain(llm=llm, prompt=second_prompt)"
      ],
      "metadata": {
        "id": "B6MF4-nMKul3"
      },
      "execution_count": 16,
      "outputs": []
    },
    {
      "cell_type": "code",
      "source": [
        "# Define a sequential chain using the two chains above: the second chain takes the output of the first chain as input\n",
        "\n",
        "from langchain.chains import SimpleSequentialChain\n",
        "overall_chain = SimpleSequentialChain(chains=[chain, chain_two], verbose=True)\n",
        "\n",
        "# Run the chain specifying only the input variable for the first chain.\n",
        "explanation = overall_chain.run(\"autoencoder\")\n",
        "print(explanation)"
      ],
      "metadata": {
        "id": "SkJKFyk1K-MO",
        "outputId": "34df413d-b9e1-4756-87d2-3a1fb4f2eae9",
        "colab": {
          "base_uri": "https://localhost:8080/"
        }
      },
      "execution_count": 17,
      "outputs": [
        {
          "output_type": "stream",
          "name": "stdout",
          "text": [
            "\n",
            "\n",
            "\u001b[1m> Entering new SimpleSequentialChain chain...\u001b[0m\n",
            "\u001b[36;1m\u001b[1;3m\n",
            "An autoencoder is a type of artificial neural network used to learn efficient data encodings in an unsupervised manner. It consists of an encoder, which maps the input data to a hidden representation, and a decoder, which reconstructs the input data from the hidden representation.\u001b[0m\n",
            "\u001b[33;1m\u001b[1;3m\n",
            "\n",
            "An autoencoder is a special type of machine learning tool used to make information easier to store and access. It can take data like numbers, words, or images, and then “encode” it into a simpler format that takes up less space. Think of it like a translator, changing something from one language to another. \n",
            "\n",
            "The autoencoder is made up of two parts. The first part is called the “encoder” and it takes the data and turns it into a simpler form. It is like a box with a lock on it. The data goes in one end, and the encoder puts it into the box and locks it up. \n",
            "\n",
            "The second part of the autoencoder is called the “decoder”. This part of the autoencoder takes the data out of the box. It unlocks the box, takes out the data, and turns it back into the same format it was before. \n",
            "\n",
            "The autoencoder works in an “unsupervised” way, which means it does not need someone to tell it what to do. Instead, it looks at the data and figures out the best way to encode it all by itself\u001b[0m\n",
            "\n",
            "\u001b[1m> Finished chain.\u001b[0m\n",
            "\n",
            "\n",
            "An autoencoder is a special type of machine learning tool used to make information easier to store and access. It can take data like numbers, words, or images, and then “encode” it into a simpler format that takes up less space. Think of it like a translator, changing something from one language to another. \n",
            "\n",
            "The autoencoder is made up of two parts. The first part is called the “encoder” and it takes the data and turns it into a simpler form. It is like a box with a lock on it. The data goes in one end, and the encoder puts it into the box and locks it up. \n",
            "\n",
            "The second part of the autoencoder is called the “decoder”. This part of the autoencoder takes the data out of the box. It unlocks the box, takes out the data, and turns it back into the same format it was before. \n",
            "\n",
            "The autoencoder works in an “unsupervised” way, which means it does not need someone to tell it what to do. Instead, it looks at the data and figures out the best way to encode it all by itself\n"
          ]
        }
      ]
    },
    {
      "cell_type": "code",
      "source": [
        "# Import utility for splitting up texts and split up the explanation given above into document chunks\n",
        "\n",
        "from langchain.text_splitter import RecursiveCharacterTextSplitter\n",
        "\n",
        "text_splitter = RecursiveCharacterTextSplitter(\n",
        "    chunk_size = 100,\n",
        "    chunk_overlap  = 0,\n",
        ")\n",
        "\n",
        "texts = text_splitter.create_documents([explanation])\n"
      ],
      "metadata": {
        "id": "mDDu1B_SLQls"
      },
      "execution_count": 18,
      "outputs": []
    },
    {
      "cell_type": "code",
      "source": [
        "# Individual text chunks can be accessed with \"page_content\"\n",
        "\n",
        "texts[0].page_content"
      ],
      "metadata": {
        "id": "F6lfAdeuLhtp",
        "outputId": "8a68ccf2-2cb5-4e10-c6eb-d098be14433e",
        "colab": {
          "base_uri": "https://localhost:8080/",
          "height": 35
        }
      },
      "execution_count": 19,
      "outputs": [
        {
          "output_type": "execute_result",
          "data": {
            "text/plain": [
              "'An autoencoder is a special type of machine learning tool used to make information easier to store'"
            ],
            "application/vnd.google.colaboratory.intrinsic+json": {
              "type": "string"
            }
          },
          "metadata": {},
          "execution_count": 19
        }
      ]
    },
    {
      "cell_type": "code",
      "source": [
        "# Import and instantiate OpenAI embeddings\n",
        "\n",
        "from langchain.embeddings import OpenAIEmbeddings\n",
        "\n",
        "embeddings = OpenAIEmbeddings()"
      ],
      "metadata": {
        "id": "Z5sv4e3tLw2y"
      },
      "execution_count": 26,
      "outputs": []
    },
    {
      "cell_type": "code",
      "source": [
        "# Turn the first text chunk into a vector with the embedding\n",
        "\n",
        "query_result = embeddings.embed_query(texts[0].page_content)\n",
        "print(query_result)"
      ],
      "metadata": {
        "id": "dqzoir4hMlfl",
        "outputId": "0d7a989a-2ab7-4779-cac2-ec6910e8a9cb",
        "colab": {
          "base_uri": "https://localhost:8080/"
        }
      },
      "execution_count": 27,
      "outputs": [
        {
          "output_type": "stream",
          "name": "stdout",
          "text": [
            "[-0.03385571295143853, 0.0008082212652876269, 0.02040123137061156, -0.024700983663872824, 0.0038090905965643697, 0.00305211465601134, 0.005406971868749722, -0.017586377885897293, -0.003495970409731291, -0.04320412752675291, 0.015068504535421443, 0.04741349310404544, 0.01257645489656803, 0.0006524681628592886, 0.005594198434625136, 0.010936609161673667, 0.012686208464931034, -0.004357857972718118, 0.0005729776296687171, -0.0038704233086514815, -0.03111833432688177, 0.01932952126124905, -0.014125915778138765, -0.031066685040991797, -0.02299657771859982, -0.005481216902309327, 0.015145977532933851, -0.03778101397559406, 0.00449666368231764, -0.011517656643016738, 0.02665072232013937, -0.026056762051662533, -0.010258719967778813, -0.049815157889575225, -0.03401065894646335, -0.012240738263573407, 0.008618874232884452, -0.022028164318372154, 0.023461415703674274, 0.006123597561400782, 0.025023789372378775, 0.015688288515520718, -0.004189999656220807, -0.02548862735745323, -0.005539321650443634, 0.0007424498699347716, -0.0050034665957623785, -0.02601802648422888, -0.000484609933673466, 0.013622341294308104, 0.0070565019611637725, 0.014487456122755824, -0.008722171873341846, 0.002667977399571461, -0.014319598271919786, 0.009677672486435744, -0.024997963798111242, 0.020866069355686016, 0.03421725609002323, -0.013880583998467769, -0.004803327708414472, -0.015765761513033126, -0.016049829791460326, 0.006139737381164806, 0.01091724137795684, -0.009535638347222144, 0.002124052202177557, -0.0012476385685724714, 0.021033927206522054, 0.0005955739012072833, 0.04356566694004742, 0.0012710418893068982, -0.011375623435125687, -0.008012002108596395, 0.002259629947824273, -0.017044066903310427, 0.014564929120268234, -0.00754716412352194, -0.0002578399362613057, -0.0018415984878033525, 0.013467395299283286, -0.01916166341041301, -0.009703497129380729, 0.006101000882408602, 0.01655340334396844, 0.0005451357420838654, -0.017521816744196103, 0.01337700951463711, -0.011369167507220076, -0.007798951831098544, 0.004557996394404751, 0.005222973266827113, 0.010930153233768058, -0.025269120220727224, 0.009793881982704358, 0.010194159757400172, 0.024107023395395985, 0.02995623750155053, 0.0009030449764999762, -0.031015035755101825, -0.013738550790576717, 0.02515290979313606, -0.008593050521262014, -0.012260106978612784, -0.022673773872738962, 0.015184714031690057, -0.004057649874526895, -0.0005536093802906148, 0.010323281109480003, 0.006746609505452862, 0.009167642074699474, 0.06120369411183468, 0.0021095261315592986, -0.036541446015395516, 0.013415746013393313, 0.013067117524587472, 0.013389922301770876, -0.012550631184945593, 0.01617895021221761, 0.0016866523763632154, 0.012047055769792384, 0.01789626987594693, 0.018322372293587727, -0.003954352699730775, 0.006491594299584727, -0.010826855593310664, -0.01660505262985841, 0.003612179905999905, -0.01625642320973002, -0.005403743904796918, 0.005426340118127825, 0.0015647938267618748, -0.0028794141607541845, 0.024713895519684042, -0.03212548329454309, 0.03184141501611589, 0.010161879186549575, 0.013054205668776252, -0.017199012898335246, -0.011834005492294533, 0.019600675821219934, -0.0042093679055989095, -0.02628918104419976, -0.019510290967896304, -0.01805121587097175, 0.004219052263118597, -0.003867195344698677, 0.03398483523484091, 0.0037542138123828677, 0.012531262469906216, 0.0004204525785046724, -0.02564357335247805, -0.009651847843490758, -0.0008586594244110448, 0.026340830330089732, 0.01121422058087271, 0.00940651699514231, 0.0030101499604716937, -0.034346374648135426, 0.015029768036665237, -0.010768751310837632, 0.0017964058283109013, -0.005051886986376997, -0.015326747239581108, 0.03486286378174495, 0.02542406621575204, 0.013196238876667304, 0.005339182763095727, -0.013415746013393313, -0.003074710869342247, -0.007269552704322898, 0.010949521017484887, -0.025101262369891186, 0.01020707161321139, -0.0015801270047836526, 0.008289614459117986, 0.005913774782194461, 0.009890723695256143, -0.03176394015595838, -0.011014082159186077, 0.015003943393720251, 0.027115560305213827, 0.008386455240347224, 0.002166016664886566, -0.01657922891823597, 0.007443866948725819, 0.018606438709369833, -0.01213744155443856, 0.016475930346456027, -0.005394059547277229, 0.015249274242068699, 0.014991031537909033, 0.009096625005092673, -0.008857750084649837, -0.6598636322348023, -0.002837449698045175, 0.029362277233073695, -0.0280194125637403, 0.010458859320787994, 0.01876138470439465, -0.013803111000955359, -0.013215607591706681, 0.0001500031170144271, 0.009819706625649342, -0.007127518565109298, -0.006220438808291294, -0.013544868296795694, -0.0022999806613875173, -0.0031053772253858028, -0.024158672681285957, 0.01151120071511113, -0.03494033491661226, 0.015714112227143154, 0.006746609505452862, 0.0011742006424163866, 0.03672221572204277, -0.023190259281058292, 0.0024710669418376336, -0.005229429660393997, 0.016153126500595173, 0.010323281109480003, -0.005917002746147267, 0.018567703141936176, 0.001967492225176336, -0.017199012898335246, 0.023538888701186686, 0.008225053317416796, -0.009109536860903893, 0.036541446015395516, 0.010155423258643966, 8.443349851245184e-05, 0.040053556477721464, 0.01350613179803949, 0.04501182831851566, -0.00977451419898753, -0.03326175268296169, 0.01594653121968038, 0.0006254333244702973, 0.013073573452493081, 0.01213744155443856, -0.008560769950411419, 0.00038696163758709397, 0.013338273015880904, -0.04268763839314338, -0.002738994469178261, -0.004086702481424686, -0.013970969783113945, 0.0014840927488813421, 0.005006694559715183, 0.011814636777255156, 0.03927882650259737, -0.0054747605087424435, 0.02874249325297442, -0.017199012898335246, 0.012486070043244401, 0.012518350614094998, -0.03282273840950967, -0.017508904888384882, -0.028200182270387557, 0.00956791891807274, 0.00119437588278269, -0.007237272133472303, -0.016153126500595173, -0.014952295039152828, 0.026172972479253695, 0.0034862862850422397, 0.0005479602687502288, -0.0034410936255497887, -0.0030666407266295983, 0.04630304742724928, 0.00783123240194914, -0.019871832243835916, -0.0025162593684994474, 0.008786733015043036, 0.00955500706226152, -8.998169252356827e-05, -0.00839936802748099, -0.026340830330089732, 0.015907795652246724, 0.00550058515168743, 0.005016378451573597, -0.014629490261969424, -0.006359244517890815, 0.0037090213857210535, 0.023835868835425104, -0.0002951641716843286, -0.018787210278662186, -0.05510914915733169, -0.011672602638041556, 0.006368928409749229, 0.001584162076139977, 0.002661521471665852, -0.0012904101386850004, -0.0017189328307984921, -0.007857056113571577, -0.013854760286845331, 0.01465531490491441, 0.015068504535421443, -0.006598119438333652, 0.010620261243718421, -0.00325225331052861, 0.007372849879119019, 0.03398483523484091, -0.00919992264555007, -0.013047749740870643, -0.0002770064378923577, 0.03145404816590874, 0.016217687642296363, -0.010613805315812812, -0.0366705682987979, -0.0038123185605171746, 0.021731184184133737, -0.0016705122073532362, -0.03483704007012251, 0.018503142000234986, -0.010665453670380236, -0.006155877666590103, 0.008463928237859632, 0.000795712555724553, 0.008444560454142805, -0.012673296609119816, -0.009929460194012347, -0.019716886248811096, -0.005293990336433913, -0.002992395693069994, -0.01703115504749921, -0.01143372771759872, -0.000834449112688417, 0.03129910217088393, 0.000745274396601135, 0.026418303327602144, -0.006207526486818801, 0.008812556726665473, -0.006039668170321489, -0.018077039582594184, -0.010768751310837632, 0.01034910575242499, 0.009290307498873697, -0.016837471622395638, -0.0112787817225739, -0.0005068027388217614, -0.002345173088049331, 0.009400061067236702, 0.00043054022779165385, -0.01085913616416126, -0.010504051747449807, -0.027890290280337918, 0.0231257000020022, 0.005939598959478173, -0.004093158409330296, -0.004044737553054402, -0.02293201657689863, -0.036748039433665204, -0.029284804235561287, 0.0013162344323840306, 0.023177347425247075, -0.0037994064718753187, 0.010833311521216273, -0.01788335802013571, -0.009193465786321912, -0.003084394994031298, 0.03927882650259737, -0.03026612949160017, -0.0031521838668546564, 0.01473278790242682, -0.007553620517088824, -0.008754452444192441, 0.019587763965408716, 0.005917002746147267, 0.01768967459503214, -0.014965206894964047, -0.015843234510545534, 0.009910091478972972, -0.023513064989564247, -0.0003306726482800693, 0.0036154081027833466, -0.0018980892539612571, -0.002414576175679729, 0.008928766222934087, 0.026405391471790923, 0.018645176139448584, 0.02060782665152635, -0.02176992161421249, 0.0005459427330720666, 0.01342865880052708, 0.028587547257949604, -0.009193465786321912, 0.012440877616582588, -0.004067334232046584, 0.0170957143265553, 0.007501971696860126, 0.00027014683986966993, -0.0065367867262465405, 0.028148534847142682, 2.5559543436771186e-05, 0.002479136851719645, 0.022092725460073345, 0.013673989648875527, 0.007359937557646526, -0.01876138470439465, 0.005742688501744346, -0.01913583783614548, 0.020491616223935187, -0.0034927424457784862, 0.003925300092832984, -0.022376793738500544, -0.0007198535401885461, -0.021744096039944955, -0.006310823661614922, 0.04736184568080057, 0.0004309437232857544, 0.03067932005342975, -0.018606438709369833, -0.0112787817225739, -0.018219073721807786, 0.004283612939158514, 0.024752632949762796, 0.007062957889069382, 0.00023403310548086352, 0.026095499481741287, 0.01386767214265655, 0.026005112765772564, -0.004964730097006174, -0.06414767174259643, 0.011233589295912087, 0.019406994258761457, -0.00607517670512489, 0.006798258325681559, 0.016643788197292064, 0.02384878069123632, 0.016217687642296363, 0.005048659022424192, 0.01655340334396844, -0.012227826407762188, 9.366368349468243e-05, 0.00596219517280908, 0.01740560631660494, -0.012996100454980671, 0.021524590765864042, 0.016824559766584417, 0.01386767214265655, -0.00961956820396271, -0.032848565846422303, 0.0069015555004776795, -0.025553186636509326, 0.018735560992772213, 0.004583821037349737, 0.01625642320973002, 0.0023645413374274336, 0.0017867217036218502, 0.0014857067308577446, -0.008386455240347224, 0.04276511325330089, 0.021175961345735652, 0.0037703540978081653, 0.015055591748287675, -0.00210145598884665, 0.0065303307983409315, 0.00870280315830247, -0.005516725437112727, 0.012318211261085817, -0.014190476919839955, 0.0039478963061638905, 0.013415746013393313, -0.009374236424291716, -0.0019045452982821849, 0.00047250477781215204, -0.014384159413620978, 0.03166064530946863, 0.001685038394386813, 0.0027357662723948195, 0.01961358767703115, 0.018490230144423764, 0.03199636101114071, -0.0271672095911038, -0.04294588295994814, 0.019807271102134722, 0.016721263057449573, -0.0011193238582348842, -0.01258291082447364, -0.03646397115523801, 0.030343602489112578, -0.014991031537909033, -0.01192439034561816, 0.002519487565282889, 0.019755621816244753, -0.0025566100820626917, -0.0032603232204106215, -0.005436024009986239, 0.004180315764362393, 0.038917283364012664, -0.021253434343248064, 0.0016237055658843828, 0.00650450662105722, -0.015623727373819526, -0.0007690812128296623, 0.015210537743312495, -0.013028381025831266, 0.03587001088676117, 0.012202001764817203, -0.008302526314929205, 0.013648165005930541, 0.013648165005930541, -0.026405391471790923, 0.009077256290053298, -0.00467097792672056, 0.022789982437685027, 0.009387148280102934, 0.002280612412009415, 0.008438104526237195, -0.014771524401183024, -0.016114390933161516, 0.0161014772147052, 0.028329304553789937, 0.005507041079593039, -0.011472464216354923, -0.00629145541223682, 0.03233207671281278, 0.040983232447870374, 0.02133090734076047, -0.02768369499942313, -3.0420522133693094e-07, -0.04325577494999778, 0.02665072232013937, -0.04126730072629758, -0.005765284715075252, 0.008941679010067856, 0.019122925980334257, -0.022815808011952564, 0.010420122822031789, 0.03429472722489055, -0.019303695686981516, 0.008554314022505808, -0.0019174575033393594, -0.0039285280567857885, -0.02178283347002371, -0.018154512580106596, -0.046380518562116585, -0.01020707161321139, 0.008605962377073232, 0.000516890359004913, -0.0011419201879811099, 0.02022045980131921, -0.011756532494782123, 0.0005741881161510188, 0.04196455584126416, -0.011394991218842514, -0.02148585333578529, 0.03026612949160017, 0.02528203207653844, 0.010090862116942776, 0.006078404669077694, -0.011169028154210897, 0.020969366064820864, 0.003767126133855361, 0.02320317299951461, -0.006546471083766229, 0.006036440206368685, 0.011898565702673175, 0.0336232958215464, 0.008373543384536004, -0.011821092705160765, -0.003261937435217661, -0.02147294147997407, 0.04206785441304411, 0.01947155540046265, 0.011317518221330106, -0.01651466777653478, 0.011466008288449315, -0.014229213418596159, -0.025023789372378775, 0.007340569308268424, 0.01386767214265655, -0.01876138470439465, 0.0027196262198001587, 0.009070800362147687, -0.019497379112085086, 0.0014671454724678433, -0.02703808730770142, -0.0070177654624075676, -0.0042674726537332165, -0.016411369204754837, -0.014125915778138765, 0.0049324495261555785, 0.0046580660709093415, -0.009761601411853763, -0.007127518565109298, 0.0005221359168435392, 0.010723558884175817, -0.05386958119713314, -0.035043633488392206, -0.00253562761787755, -0.015313835383769889, 0.020956454209009642, 0.016269336928186336, -0.03052437405840493, -0.008864206012555446, 0.0083348068857798, -0.004170631406842705, -0.00298109758640454, -0.007456779270198312, -0.04201620698979923, -0.013983881638925165, 0.004177087334748314, -0.02675401902927422, -0.028768318827241957, -0.002742222433131066, -0.0065303307983409315, 0.028716669541351984, -0.024597686954737977, 0.032073835871298216, 0.02206690174845091, 0.0008772206828009459, 0.012692664392836644, 0.03519857948341702, 0.023590537987076655, -0.002411347978896287, -0.030137009070842886, 0.012763681462443444, -0.01776714759254455, -0.004871116814068467, -0.03537934919006428, 0.019755621816244753, -0.007844144257760359, 0.013389922301770876, 0.00672078532816915, 0.02646995075084702, -0.0076891982627355394, -0.003195762544370705, 0.012621647323229844, 0.0017754235969563966, -0.025591924066588077, 0.00031271666223514866, -0.0007037133711785671, 0.013777287289332923, 0.0005988019815754066, 0.00015383642607178638, -0.016527579632346, -0.00112416592057941, -0.03202218472276314, 0.028432601262924784, 0.0050712552357551, -0.004538628145026649, 0.007101694387825586, 0.01020707161321139, -0.0008925538608227239, -0.002391979729518185, 0.009800337910609967, -0.027502925292775874, 0.03153152302606625, -0.019497379112085086, -0.03450132064316024, -0.02069821150484998, -0.021602063763376454, -0.013215607591706681, 0.01272494496368724, -0.0014501983124696632, -0.029568872513988487, 0.013570692008418131, 0.014409983125243416, -0.002496891119121345, -0.01071064609704205, 0.014345422914864773, -0.02430070682049956, -0.0205690892214476, 0.011265869866762682, 0.004361085936670923, 0.0333392275431192, 0.005042203094518583, 0.0253207676439721, -0.00722435981199981, -0.03940794878599976, 0.009722864913097557, -0.033055159264692, -0.0026453811862405543, 0.023474327559485492, 0.03757442055732437, 0.029852940792415687, 0.05097725471490646, -0.012350491831936412, 0.005164868518692806, 0.0023952079263016264, -0.0036154081027833466, -0.0038801076661711697, -0.0005241534525217015, 0.00441919068480523, -0.033545820961388896, 0.006817626575059662, 0.021576238189108917, -0.001423566911367113, 0.015985268649759136, 0.007456779270198312, 0.018425669002722574, 0.010458859320787994, 0.010232896256156376, -0.02250591415925783, 0.004509576003790133, -0.01220845862404536, -0.01588197007797919, 0.019148749691956696, 0.006953204320706377, 0.011814636777255156, -0.019381168684493924, 0.0027825729138636728, 0.03279691469788724, 0.002235419752516964, 0.010026300975241586, 0.007405130449969615, 0.03847827281585084, 0.012996100454980671, 0.009729320841003166, 0.013570692008418131, -0.009574374845978348, -0.004945361847628072, 0.0013509359761992295, -0.03346834982652158, -0.015649551085441964, 0.029233156812316412, 0.02263503644266021, 0.003934984450352672, 0.020000954527238296, -0.017276485895847654, 0.004477295432939537, 0.00036597934802493006, -0.01071710202494766, -0.012247195122801565, -0.015739937801410687, -0.031169981750126644, -0.024158672681285957, -0.04842064393435186, -0.037109582572249916, -0.010755838523703863, 0.021860306467536117, 0.020840245644063577, -0.015714112227143154, 0.03251284641946004, -0.016566315199779656, -0.02060782665152635, 0.00848329695289901, 0.030007886787440503, 0.03127327845926149, 0.00021103330934436703, 0.03708375513533728, 0.02054326550982516, 0.01199540741522496, -0.00963248005977393, 0.01342865880052708, 0.015313835383769889, -0.005181008804118104, 0.01337700951463711, 0.010665453670380236, 0.0034991983736840956, -0.029207331238048875, 0.021369644770839226, -0.023228996711137047, -0.002935904926912089, -0.03282273840950967, -0.008567225878317028, 0.009742233628136934, 0.015869058222167973, -0.007185623313243605, -0.015197625887501275, 0.007192079706810489, 0.004193227620173612, -0.015223450530446261, 0.006869275395288359, -0.020517439935557626, -0.013480307155094504, -0.016992417617420454, 0.025204559079026034, -0.02556610035496564, 0.011466008288449315, 0.0021531045762447102, -0.0208531574998748, 0.011265869866762682, -0.019084190412900603, -0.0065303307983409315, 0.006991940819462582, -0.0018722648438469082, 0.011801724921443938, 0.011685515425175324, 0.013828935643900345, 0.00556837379168015, 0.016501755920723563, -0.01868391170688224, -0.011846917348105751, -0.0069661166421788705, 0.029362277233073695, -0.03282273840950967, -0.031376577031041436, -0.006149421738684494, -0.0002953659194313789, 0.0005697495493005939, -0.0029956238898534355, -0.008012002108596395, -0.03142822445428631, -5.800389608865404e-05, -0.0013364097891656527, 0.00736639395121341, 0.001033780718009826, -0.03421725609002323, -0.016346809925698744, -0.01069773424123083, -0.009542095206450302, -0.009574374845978348, 0.018257811151886537, 0.022480090447635392, -0.03447549693153781, -0.0014356721254360865, -0.003011763942448096, -0.013389922301770876, 0.02183448275591368, 0.01200831927103618, 0.0006185737264476095, 0.0018335283450907037, 0.04268763839314338, -0.015933619363869164, 0.027218857014348674, 0.012847610387861462, 0.01660505262985841, -0.006375384803316113, 0.007644005370412451, 0.00303436038860964, -0.014474544266944606, 0.00883192544170485, -0.012821786676239025, 0.001975562135058348, 0.0022063673784498104, -0.00961956820396271, 0.007708566512113642, -0.018955068129498223, 0.004438558934183333, -0.001609179378850806, -0.01739269446079372, 0.016036917935649108, -0.014965206894964047, -0.011362710647991919, 0.00832835095787419, -0.005532865722538025, -0.015223450530446261, 0.023525976845375465, -0.01932952126124905, -0.020026778238860732, -0.005164868518692806, 0.011472464216354923, 0.001041850860722475, -0.04173213871137203, -0.02384878069123632, -0.011963126844374365, 0.015533342520495898, 0.01415174042108375, 0.0015341273543030003, 0.0016325826995852329, -0.015765761513033126, -0.020659474074771225, 0.00868989130249125, 0.019716886248811096, -0.01674708676907201, 0.005016378451573597, 0.0011685514726683412, 0.003037588352562445, 0.003263551417194063, -0.025553186636509326, -0.02974964408328084, -0.01272494496368724, -0.010071493401903399, -0.015584990875063322, -0.0023645413374274336, -0.030085359784952914, 0.024920490800598834, 0.004806555672367276, -0.023977902974638702, -0.015778673368844344, 0.011485377003488692, -0.025901816056637716, 0.01923913640792542, -0.018206161865996568, -0.0003054535687183603, 0.002303208625340322, 0.02556610035496564, -0.011369167507220076, 0.012996100454980671, 0.0034927424457784862, 0.026056762051662533, -0.0024549266564123356, 0.014461632411133386, -0.013202695735895461, 0.013325361160069686, -0.009787426054798747, -0.0049001689553049834, -0.03253867385637267, -0.009761601411853763, -0.007392218128497122, -0.01696659390579802, -0.015145977532933851, 0.018477318288612547, -0.008083019178203196, -0.009432341638087297, 0.00471294238942957, 0.03261614499123998, 0.007863512041477186, -0.01588197007797919, 0.03406231009499842, -0.008657610731640656, -0.018231985577619004, 0.0007133974958676182, 0.0028293795553325264, 0.0020756315787323013, -0.019226222689469104, 0.01687620905247439, 0.02291910472108741, -0.00445469921960863, -0.02493340265641005, 0.0032022184722763146, 0.005216517338921504, -0.02148585333578529, 0.019342433117060267, 0.018438580858533796, -0.01753472860000732, 0.029233156812316412, 0.009193465786321912, 0.0002493663271583859, -0.006849907145910257, -0.010730014812081426, -0.003863967380745872, 0.01768967459503214, 0.00028568179474232775, -0.0012766909426396248, 0.005274622087055811, -0.014939382252019061, 0.029000737819779184, -0.024119937113852304, 0.0007210640848785071, 0.004545084538593532, 0.020904804923119674, -0.018490230144423764, 0.026198796190876134, -0.037316175990519604, -0.016837471622395638, 0.007379305807024629, -0.005955739244903471, -0.03259032127961754, -0.0018577386568133314, -0.014771524401183024, 0.015701200371331936, -0.011543481285961724, -0.014100091135193778, -0.002488820976408696, -0.011633866139285352, -0.009012696079674655, 0.009638935987679538, -0.0007331692407398211, -0.00672078532816915, 0.0041674034428899, 0.19295949691081843, -0.03902058193579261, -0.004874344778021272, 0.011156116298399677, -0.013015469170020048, 0.005384375655418816, 0.003360392664084575, -0.01998804080878198, -0.013389922301770876, 0.009303219354684917, -0.012460245400299417, 0.007605268871656247, -0.021602063763376454, 0.0002598574428356382, 0.01020707161321139, -0.006594891474380847, -0.03605078431869862, -0.019820182957945943, -0.011317518221330106, 0.028484250548814757, -0.009128905575943268, 0.0065884355464752384, -0.006310823661614922, -0.03406231009499842, 0.033881536663060964, -0.010374929464047427, -0.0031796222589454077, 0.013138134594194271, 0.015933619363869164, 0.011466008288449315, -0.03129910217088393, 0.013067117524587472, -0.0014526192854342665, -0.002479136851719645, -0.03292603698128962, 0.006959660248611987, -0.003731617599051961, 0.0014001635906326865, 0.009606655416828943, 0.02931062980982882, 0.015559167163440885, -0.02889743924799924, 0.00578788092840616, -0.017353958893360066, 0.00444824329170302, 0.007928073183178378, -0.013067117524587472, -0.01772841202511089, -0.02838095383967991, 0.0029342909449356865, -0.018942156273687002, -0.008231509245322404, -0.007676285941263046, 0.029155683814804, -0.004464383111467044, 0.00985198719649994, -0.01481026089993923, 0.020659474074771225, 0.03323592897133926, -0.02263503644266021, -0.000999886281598147, 0.003505654534420342, -0.007882880756516563, -0.007947441898217753, -0.005284305978914225, -0.0005302060595561881, -0.007011309068840684, 0.00664331233065674, 0.025204559079026034, -0.021602063763376454, -0.0003514531609913533, 0.003515338659109393, -0.008147580319904386, -0.01770258645084336, -0.028432601262924784, -0.02572104634999046, 0.03135075331941899, 0.01891633069941947, 0.01639845734894362, -0.012602279539513017, -0.008722171873341846, -0.017134451756634056, -0.016695437483182037, 0.016927856475719264, -0.008360631528724786, -0.05250089095353221, 0.022738335014440152, -0.01747016745830613, -0.004403050399379932, -0.03269361985139749, 0.002156332540197515, -0.007172711457432386, -0.013751462646387937, -0.01961358767703115, 0.010658997742474627, 0.015791585224655562, -0.001328339646453004, 0.014087179279382559, 0.001149183223290239, -0.008967502721690293, -0.024468564671335596, 0.03197053729951827, 0.03615407916518837, 0.035017809776769764, -0.00492599359824997, 0.022363881882689327, -0.021240522487436842, 0.00563939086128695, 0.01810286515686172, 0.00513581637745629, 0.0038704233086514815, -0.044417871775329014, 0.02276415872606259, 0.004754907317799853, -0.005055114950329802, 0.014719875115293051, 0.01473278790242682, -0.01687620905247439, 0.0003330936794523321, 0.011943759060657538, -0.013054205668776252, -0.023164435569435857, -0.017224836609957682, 0.010646085886663407, -0.01948446725627387, -0.0068047142535871685, -0.032951860692912054, 0.02112431205984568, -0.009677672486435744, -0.011879197918956346, 0.017147363612445274, -0.020749858928094854, 0.00011358676100504528, 0.02693479059856657, 0.01258291082447364, 0.010407210034898022, 0.008225053317416796, -0.005390831583324425, -0.008890029724177883, 0.026908965024299035, -0.012376316474881398, 0.01372563800344295, 0.02423614567879837, -0.02644412703922458, 0.0035798995679799466, -0.0037348455630047653, 0.006636856402751131, 0.01665670191574838, -0.0058524416044460756, -0.0025921183840354545, 0.0008941679010067855, -0.0015720568620710038, -0.01264101603826922, -0.004403050399379932, -0.0007803793777027751, 0.022157286601774535, -0.02018172423388555, -0.01100117030337486, -0.003370076788773626, -0.014991031537909033, -0.03669639201042033, -0.011517656643016738, 0.015404220237093516, -0.005413427796655332, -0.018361107861021384, -0.012130985626532951, -0.16269336183128297, -0.023964991118827484, -0.00027014683986966993, -0.03958871849264701, 0.006052580491793982, 0.027244682588616207, -0.011698427280986542, 0.019794359246323504, -0.03042107548662499, 0.018787210278662186, 0.0024048920509906774, -0.005958967208856276, 0.011414359933881891, -0.008715715945436237, -0.008089475106108805, 0.010148966399415808, -6.844459665701603e-05, 0.032848565846422303, 0.018774296560205867, 0.00998110854857977, 0.03850409652747328, -0.03398483523484091, 0.004696802569665546, -0.008244421101133624, 0.01078166316664885, -0.013312449304258466, -0.003013377924424498, 0.017237748465768903, -0.005055114950329802, -0.026831492026786627, 0.002908466534821338, -0.020168812378074333, 0.016772910480694448, 0.014422895912377182, 0.007282464560134117, 0.011169028154210897, 0.015843234510545534, -0.002661521471665852, -0.006062264383652397, 0.014345422914864773, 0.004222280227071403, 0.008986871436729668, -0.001524443229613949, 0.014358334770675992, 0.02139546848246166, 0.022880367291008657, 0.013764374502199155, -0.03269361985139749, -0.00868989130249125, -0.0037994064718753187, 0.015236362386257479, -0.028665020255462012, 0.04129312443792001, 0.009593743561017725, 0.04289423553670327, 0.0022547880018950663, 0.001166937490691939, 0.0009377464621075157, 0.015029768036665237, -0.021163049489924434, -0.005513497473159923, -0.0132995365171247, 0.02433944425057831, -0.0023952079263016264, -0.0002441207402159301, -0.0265990730342494, -0.019794359246323504, -0.012808873889105258, 0.008154036247809995, 0.008806100798759865, 0.0038607391839624305, -0.02271250944017262, -0.004780731495083564, -0.008954590865879073, 0.013932233284357741, 0.02521747093483725, -0.005971879530328769, 0.029827117080793247, 0.004761363245705462, -0.014552017264457016, -0.01913583783614548, 0.014125915778138765, 0.0019965445992434897, -0.00506479930784949, 0.01688912090828561, -0.02250591415925783, -0.009296763426779306, -0.004254560332260723, -0.013041292881642486, -0.01731522146328131, 0.02222184774347573, -0.029568872513988487, -0.022480090447635392, -0.01013605454360459, 0.014913558540396624, 0.014848997398695434, -0.0029568873910972306, -0.011330430077141324, 0.02112431205984568, 0.002881028375561224, -0.023409766417784302, 0.027606222001910718, -0.012356947759842021, -0.013996793494736382, 0.023409766417784302, 0.013544868296795694, -0.015533342520495898, 0.013970969783113945, 0.03953707106940214, -0.018670999851071023, 0.0012815330049841505, -0.01632098435143121, 0.022893281009464972, 0.030472724772514958, 0.002524329511212096, 0.02395207740037117, 0.003334568253970226, -0.017935005443380586, 0.020168812378074333, -0.00827670167198422, 0.031221631036016613, -0.0075213399462382285, -0.026986438021811446, 0.00999402040439099, -0.007347025701835307, -0.025023789372378775, -0.09890723695256143, -0.03328757639458413, 0.003912387771360491, 0.006275315592472797, -0.010749382595798255, 0.0202850209430204, -0.0027406084511546634, 0.03656726972701795, -0.035017809776769764, 0.022260583310909382, -0.023732572126290256, -0.015430044880038503, -0.011517656643016738, -0.02105975091814449, -0.00834126281368541, -0.03127327845926149, -0.015145977532933851, -0.0011193238582348842, -0.03726452856727473, 0.035611770045246606, -0.017625113453330947, 0.015442956735849722, 0.010000477263619148, 0.00017734060612782345, -0.001328339646453004, -0.00022414723304476207, -0.016501755920723563, 0.026147146904986162, 0.020452880656501533, -0.0166696137715596, 0.014952295039152828, -0.02193777946504853, 0.013777287289332923, -0.014784436256994243, 0.003195762544370705, -0.0018044759710235502, 0.011265869866762682, -0.015236362386257479, 0.019755621816244753, -0.012498981899055621, -0.0002925413927650155, -0.004661294034862146, 0.0104265787499374, 0.0035831275319327515, -0.007127518565109298, -0.01889050698779703, -0.02306113886030101, 0.022260583310909382, -0.01213744155443856, -0.019678148818732342, -0.03055019777002737, -0.006162334060156987, -0.04854976621775424, 0.009509814635599707, 0.007127518565109298, -0.010904328590823072, 0.017302309607470093, -0.010110229900659604, -0.011517656643016738, -0.008431647667009037, 0.008819013585893633, -0.01991056781126957, -0.027089736593591388, 0.009813250697743733, -0.0008715715712605599, 0.0021434204515556592, -0.009839074409366171, -0.010620261243718421, 0.0016979505994439874, -0.013699814291820513, -0.005406971868749722, 0.014784436256994243, -0.007237272133472303, 0.005823389463209559, -0.010742926667892646, -0.021899042034969774, 0.011033450874225454, 0.0002400856834115205, 0.0036315481553780074, -0.0019529659217274408, -0.015584990875063322, 0.003531478944534691, -0.012563543040756811, -0.03039525177500255, -0.004248104404355114, -0.005774968606933667, -0.01278305017748282, -0.005539321650443634, -0.013635253150119323, -0.0271672095911038, 0.01271203310787602, 0.012260106978612784, 0.014177564132706188, 0.0006770819700760171, -0.017263574040036436, 0.004651609677342458, -0.009251571000117493, 0.013738550790576717, 0.003428181536907933, 0.018128688868484157, -0.0028923264822266776, -0.024042464116339892, -0.03509528091163708, -0.0036154081027833466, -0.0005217324213494386, 0.01630807249561999, 0.010723558884175817, -0.009135361503848879, 0.010006933191524757, -0.01121422058087271, 0.00679180239777595, 0.013092942167532458, -0.022957840288521065, 0.004022141339723496, -0.002375839676923524, -0.016927856475719264, 0.004441786898136137, -0.005942826923430978, 0.011756532494782123, -0.02147294147997407, 0.003048886459227898, 0.0005729776296687171, -0.012937996172507639, 0.03568924118011391, 0.013880583998467769, 0.025398240641484507, -0.016940768331530482, -0.010529875459072245, 0.00679180239777595, 0.026082585763284972, -0.010362017608236207, -0.01655340334396844, -0.014564929120268234, -0.02134381919657169, -0.02018172423388555, 0.022376793738500544, -0.008044282679446992, 0.003074710869342247, 0.009942372049823567, 0.020297932798831617, 0.009871354980216766, 0.03264196870286242, -0.02139546848246166, -0.045321720308565294, 0.0075277958741438375, 0.0068886436446664616, -0.028200182270387557, -0.019665236962921124, -0.006223666772244099, -0.003944668342211086, 0.013841847499711565, -0.004796871780508863, 0.04211950183628898, 0.008657610731640656, -0.020207547945507987, -0.007062957889069382, -0.03186723872773833, -0.0015768989244155293, 0.009613111344734552, 0.007082326138447484, -0.0014340580270443654, -0.014048442780626355, 0.04467611261684359, 0.03039525177500255, -0.0016317757085970316, 0.003728389635099156, -0.018193250010185347, -0.0031747800801855634, -0.0101425104715102, 0.01754764045581854, 0.007146886814487401, -0.030937562757589417, -0.0035476192299599887, 0.0018754929242150314, -0.001777037578932799, -0.0007949055647363519, 0.006617487687711755, 0.0036057239780942956, 0.01200186334313057, 0.01917457526622423, -0.010620261243718421, 0.03018865649408776, -0.0012904101386850004, -0.01761220159751973, -0.010975345660429873, 0.021447117768351634, 0.04689700769572611, 0.024249057534609587, -0.001590618120460905, 0.006204298522865997, 0.030576021481649805, -0.008502664736615838, -0.0014364791164242876, 0.028174358558765118, -0.008657610731640656, 0.016191863930673924, -0.0225575634451478, 0.004070562195999388, -0.014500368909889592, 0.010000477263619148, 0.020904804923119674, 0.029697994797390867, 0.032848565846422303, -0.003373304752726431, 0.007411586377875224, -0.014384159413620978, -0.02419741011136471, 0.03181559130449345, -0.023267732278570704, -0.01207288041273737, -0.009935916121917958, 0.028845791824754365, 0.01761220159751973, 0.0042674726537332165, -0.004470839505033928, -0.008676979446680033, -0.018993803696931877, 0.035844187175138736, -0.004690346176098662, -0.010090862116942776, -0.042713462104765815, -0.02206690174845091, -0.0005584514426351404, -0.011123835727549082, 0.009277395643062479, -0.020155900522263112, -0.00413835083599211, 0.027477101581153435, 0.016153126500595173, -0.028277655267899965, 0.010801031881688227, -0.015894883796435506, -0.005416655760608137, -0.010930153233768058, 0.0017157047504303689, -0.016759998624883227, -0.039485419920867064, 0.024326530532121995, -0.004254560332260723, 0.015003943393720251, -0.012014775198941788, 0.0843423059696481, 0.024223233822987147, -0.017044066903310427, 0.021227610631625624, -0.01085268023625565, 0.003026290245896991, 0.01572702408295437, 0.011072187372981658, 0.003132815617476554, -0.005203605017449011, 0.007430954627253326, 0.0012750769606632226, -0.0024920491731921382, -0.019587763965408716, -0.002151490594268308, -0.00253562761787755, -0.010478227104504821, 0.007637549442506842, -0.0101425104715102, -0.007334113380362815, 0.0028794141607541845, 0.014745699758238038, 0.002643767204264152, -0.012615191395324235, -0.016785822336505666, 0.0016527579399515362, 0.03545682405022178, 0.006346332196418322, -0.0014267949917352364, -0.006920923749855782, -0.002419418121608936, 0.01818033815437413, -0.040724987881065614, 0.0007549585212901862, 0.005432796046033434, -0.0115628500010011, 0.0036057239780942956, -0.0023274188206476314, 0.0054747605087424435, 0.015107241034177647, 0.005284305978914225, 0.02737380300937349, 0.008218597389511187, -0.03682551429382271, -0.010465315248693603, -0.01802539215934931, 0.015391308381282299, -0.019574852109597494, -0.008825469513799242]\n"
          ]
        }
      ]
    },
    {
      "cell_type": "code",
      "source": [
        "# Import and initialize FAISS\n",
        "import os\n",
        "from langchain.vectorstores import FAISS"
      ],
      "metadata": {
        "id": "QaOY5bIZM3Xz"
      },
      "execution_count": 42,
      "outputs": []
    },
    {
      "cell_type": "code",
      "source": [
        "db = FAISS.from_documents(texts, embeddings)"
      ],
      "metadata": {
        "id": "lZhSUt3FNBzN"
      },
      "execution_count": 43,
      "outputs": []
    },
    {
      "cell_type": "code",
      "source": [
        "# Do a simple vector similarity search\n",
        "\n",
        "query = \"What is magical about an autoencoder?\"\n",
        "result = db.similarity_search(query)\n",
        "\n",
        "print(result)"
      ],
      "metadata": {
        "id": "cCXVuXwPNKcc",
        "outputId": "c4c59836-3045-4457-cccd-4f8ddafaa6eb",
        "colab": {
          "base_uri": "https://localhost:8080/"
        }
      },
      "execution_count": 44,
      "outputs": [
        {
          "output_type": "stream",
          "name": "stdout",
          "text": [
            "[Document(page_content='An autoencoder is a special type of machine learning tool used to make information easier to store'), Document(page_content='The autoencoder works in an “unsupervised” way, which means it does not need someone to tell it'), Document(page_content='The autoencoder is made up of two parts. The first part is called the “encoder” and it takes the'), Document(page_content='The second part of the autoencoder is called the “decoder”. This part of the autoencoder takes the')]\n"
          ]
        }
      ]
    },
    {
      "cell_type": "code",
      "source": [
        "# Import Python REPL tool and instantiate Python agent\n",
        "\n",
        "from langchain_experimental.agents.agent_toolkits import create_python_agent\n",
        "from langchain_experimental.tools import PythonREPLTool\n",
        "from langchain.python import PythonREPL\n",
        "from langchain.llms.openai import OpenAI\n",
        "\n",
        "agent_executor = create_python_agent(\n",
        "    llm=OpenAI(temperature=0, max_tokens=1000),\n",
        "    tool=PythonREPLTool(),\n",
        "    verbose=True\n",
        ")"
      ],
      "metadata": {
        "id": "4Ogz8luZNRnJ"
      },
      "execution_count": 46,
      "outputs": []
    },
    {
      "cell_type": "code",
      "source": [
        "# Execute the Python agent\n",
        "\n",
        "agent_executor.run(\"Find the roots (zeros) if the quadratic function 3 * x**2 + 2*x -1\")"
      ],
      "metadata": {
        "id": "BVHMDj0sNi09",
        "outputId": "620b0d20-a52f-4dff-9490-b88e0b5d3ab6",
        "colab": {
          "base_uri": "https://localhost:8080/",
          "height": 383
        }
      },
      "execution_count": 47,
      "outputs": [
        {
          "output_type": "stream",
          "name": "stdout",
          "text": [
            "\n",
            "\n",
            "\u001b[1m> Entering new AgentExecutor chain...\u001b[0m\n"
          ]
        },
        {
          "output_type": "stream",
          "name": "stderr",
          "text": [
            "WARNING:langchain_experimental.utilities.python:Python REPL can execute arbitrary code. Use with caution.\n"
          ]
        },
        {
          "output_type": "stream",
          "name": "stdout",
          "text": [
            "\u001b[32;1m\u001b[1;3m I need to solve a quadratic equation\n",
            "Action: Python_REPL\n",
            "Action Input: from scipy.optimize import root\u001b[0m\n",
            "Observation: \u001b[36;1m\u001b[1;3m\u001b[0m\n",
            "Thought:\u001b[32;1m\u001b[1;3m I need to define the function\n",
            "Action: Python_REPL\n",
            "Action Input: def f(x): return 3 * x**2 + 2*x -1\u001b[0m\n",
            "Observation: \u001b[36;1m\u001b[1;3m\u001b[0m\n",
            "Thought:\u001b[32;1m\u001b[1;3m I need to find the roots of the function\n",
            "Action: Python_REPL\n",
            "Action Input: root(f, [0, 1])\u001b[0m\n",
            "Observation: \u001b[36;1m\u001b[1;3m\u001b[0m\n",
            "Thought:\u001b[32;1m\u001b[1;3m I now know the final answer\n",
            "Final Answer: The roots of the quadratic function 3 * x**2 + 2*x -1 are -1.0 and 0.3333333333333333.\u001b[0m\n",
            "\n",
            "\u001b[1m> Finished chain.\u001b[0m\n"
          ]
        },
        {
          "output_type": "execute_result",
          "data": {
            "text/plain": [
              "'The roots of the quadratic function 3 * x**2 + 2*x -1 are -1.0 and 0.3333333333333333.'"
            ],
            "application/vnd.google.colaboratory.intrinsic+json": {
              "type": "string"
            }
          },
          "metadata": {},
          "execution_count": 47
        }
      ]
    },
    {
      "cell_type": "code",
      "source": [],
      "metadata": {
        "id": "iuazUxcuVj3k"
      },
      "execution_count": null,
      "outputs": []
    }
  ]
}